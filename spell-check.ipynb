{
 "cells": [
  {
   "cell_type": "code",
   "execution_count": 52,
   "id": "d4dbd080",
   "metadata": {},
   "outputs": [],
   "source": [
    "import re\n",
    "import string\n",
    "from collections import Counter\n",
    "import numpy as np"
   ]
  },
  {
   "cell_type": "code",
   "execution_count": 53,
   "id": "64d3d65e",
   "metadata": {},
   "outputs": [],
   "source": [
    "def read_corpus(filename):\n",
    "    with open(filename, 'r') as file:\n",
    "        lines = file.readlines()\n",
    "        words = []\n",
    "        \n",
    "        for line in lines:\n",
    "            words += re.findall(r'\\w+', line.lower())\n",
    "            \n",
    "        return words"
   ]
  },
  {
   "cell_type": "code",
   "execution_count": 54,
   "id": "0f4c3d32",
   "metadata": {},
   "outputs": [],
   "source": [
    "words = read_corpus(\"c:/Users/karth/Onedrive/Desktop/Projects/ML projects/spell-check/spell-check/shakespeare.txt\")\n",
    "#print(len(words)"
   ]
  },
  {
   "cell_type": "code",
   "execution_count": 55,
   "id": "fac04d42",
   "metadata": {},
   "outputs": [
    {
     "name": "stdout",
     "output_type": "stream",
     "text": [
      "23902\n"
     ]
    }
   ],
   "source": [
    "vocabs = set(words)\n",
    "print(len(vocabs))"
   ]
  },
  {
   "cell_type": "code",
   "execution_count": 56,
   "id": "b4e734e9",
   "metadata": {},
   "outputs": [
    {
     "name": "stdout",
     "output_type": "stream",
     "text": [
      "3\n"
     ]
    }
   ],
   "source": [
    "word_count = Counter(words)\n",
    "print(word_count[\"animal\"])"
   ]
  },
  {
   "cell_type": "code",
   "execution_count": 57,
   "id": "928202d8",
   "metadata": {},
   "outputs": [],
   "source": [
    "total_word_count = float(sum(word_count.values()))\n",
    "word_prob = {word: word_count[word] / total_word_count for word in word_count.keys()}\n"
   ]
  },
  {
   "cell_type": "code",
   "execution_count": 58,
   "id": "1c2c3c4e",
   "metadata": {},
   "outputs": [
    {
     "name": "stdout",
     "output_type": "stream",
     "text": [
      "5.487434850160749e-05\n"
     ]
    }
   ],
   "source": [
    "print(word_prob[\"smell\"])"
   ]
  },
  {
   "cell_type": "code",
   "execution_count": 59,
   "id": "769c8418",
   "metadata": {},
   "outputs": [],
   "source": [
    "def split(word):\n",
    "    return [(word[:i], word[i:]) for i in range(len(word)+1)]"
   ]
  },
  {
   "cell_type": "code",
   "execution_count": 60,
   "id": "ae21d6ab",
   "metadata": {},
   "outputs": [
    {
     "name": "stdout",
     "output_type": "stream",
     "text": [
      "[('', 'animal'), ('a', 'nimal'), ('an', 'imal'), ('ani', 'mal'), ('anim', 'al'), ('anima', 'l'), ('animal', '')]\n"
     ]
    }
   ],
   "source": [
    "print(split(\"animal\"))"
   ]
  },
  {
   "cell_type": "code",
   "execution_count": 61,
   "id": "b0821eaa",
   "metadata": {},
   "outputs": [],
   "source": [
    "def delete(word):\n",
    "    return [l+r[1:] for l,r in split(word) if r]"
   ]
  },
  {
   "cell_type": "code",
   "execution_count": 62,
   "id": "9de66c73",
   "metadata": {},
   "outputs": [
    {
     "name": "stdout",
     "output_type": "stream",
     "text": [
      "['rash', 'tash', 'trsh', 'trah', 'tras']\n"
     ]
    }
   ],
   "source": [
    "print(delete(\"trash\"))"
   ]
  },
  {
   "cell_type": "code",
   "execution_count": 63,
   "id": "a893fa15",
   "metadata": {},
   "outputs": [],
   "source": [
    "def swap(word):\n",
    "    return [l+r[1]+r[0]+r[2:] for l,r in split(word) if len(r)>1]"
   ]
  },
  {
   "cell_type": "code",
   "execution_count": 64,
   "id": "4dd24f1e",
   "metadata": {},
   "outputs": [],
   "source": [
    "def replace(word):\n",
    "    letters = string.ascii_lowercase\n",
    "    return [l+c+r[1:] for l,r in split(word) if r for c in letters]"
   ]
  },
  {
   "cell_type": "code",
   "execution_count": 65,
   "id": "633b42ec",
   "metadata": {},
   "outputs": [],
   "source": [
    "def insert(word):\n",
    "    letters = string.ascii_lowercase\n",
    "    return [l+c+r[1:] for l,r in split(word) for c in letters]"
   ]
  },
  {
   "cell_type": "code",
   "execution_count": 66,
   "id": "05897ff2",
   "metadata": {},
   "outputs": [],
   "source": [
    "def lvl_1_edit(word):\n",
    "    return set(delete(word) + swap(word) + replace(word) + insert(word))"
   ]
  },
  {
   "cell_type": "code",
   "execution_count": 67,
   "id": "8304a72f",
   "metadata": {},
   "outputs": [
    {
     "name": "stdout",
     "output_type": "stream",
     "text": [
      "{'lrash', 'ttash', 'qrash', 'trasw', 'trasf', 'trysh', 'tqash', 'trasj', 'frash', 'toash', 'trosh', 'trqsh', 'trsah', 'trnsh', 'traxh', 'nrash', 'tvash', 'trasp', 'trawh', 'trashv', 'trarh', 'trksh', 'trlsh', 'trasd', 'trhsh', 'trass', 'trasg', 'trasq', 'teash', 'tmash', 'yrash', 'trashq', 'trask', 'krash', 'trauh', 'trtsh', 'trasha', 'tpash', 'trashh', 'trashx', 'tbash', 'tuash', 'trasx', 'trazh', 'tash', 'tcash', 'trzsh', 'tdash', 'trashe', 'trasa', 'jrash', 'trashj', 'tralh', 'trsh', 'traso', 'trach', 'rtash', 'trasu', 'trashm', 'xrash', 'tresh', 'prash', 'trwsh', 'trfsh', 'trasz', 'trabh', 'tramh', 'trbsh', 'trashp', 'trashg', 'trasr', 'trish', 'trahs', 'trvsh', 'srash', 'trasl', 'traoh', 'trasc', 'wrash', 'trashf', 'trush', 'trasy', 'trashl', 'trjsh', 'trash', 'trafh', 'trasm', 'tlash', 'traqh', 'trashw', 'trasb', 'trashd', 'tnash', 'tarsh', 'trashb', 'trashz', 'traeh', 'trmsh', 'hrash', 'thash', 'rash', 'urash', 'trashi', 'orash', 'trayh', 'crash', 'tfash', 'twash', 'trcsh', 'trashn', 'trdsh', 'taash', 'txash', 'drash', 'trashu', 'trath', 'trast', 'trashc', 'trashy', 'tranh', 'tzash', 'trase', 'trpsh', 'traih', 'trasn', 'tras', 'traah', 'mrash', 'tjash', 'trrsh', 'trssh', 'trajh', 'trakh', 'travh', 'tkash', 'trasht', 'trashr', 'trashs', 'zrash', 'trxsh', 'trashk', 'arash', 'tsash', 'grash', 'tradh', 'irash', 'tyash', 'erash', 'tragh', 'traph', 'trahh', 'trasi', 'trgsh', 'brash', 'trasho', 'trasv', 'trah', 'vrash', 'tiash', 'rrash', 'tgash'}\n"
     ]
    }
   ],
   "source": [
    "print(lvl_1_edit(\"trash\"))"
   ]
  },
  {
   "cell_type": "code",
   "execution_count": 68,
   "id": "79184715",
   "metadata": {},
   "outputs": [],
   "source": [
    "def lvl_2_edit(word):\n",
    "    return set(e2 for e1 in lvl_1_edit(word) for e2 in lvl_1_edit(e1))"
   ]
  },
  {
   "cell_type": "code",
   "execution_count": 69,
   "id": "ecf71e7a",
   "metadata": {},
   "outputs": [],
   "source": [
    "def corr_spell(word, vocab, prob):\n",
    "    if word in vocab:\n",
    "        print(\"word is correct\")\n",
    "        return\n",
    "    \n",
    "    suggestion = lvl_1_edit(word) or lvl_2_edit(word) or [word]\n",
    "    best_guess = [w for w in suggestion if w in vocab]\n",
    "    return [(w, prob[w]) for w in best_guess]"
   ]
  },
  {
   "cell_type": "code",
   "execution_count": 75,
   "id": "cb62713f",
   "metadata": {},
   "outputs": [
    {
     "name": "stdout",
     "output_type": "stream",
     "text": [
      "[('foal', 1.0759676176785783e-06), ('fond', 6.240612182535754e-05), ('ford', 0.0003131065767444663), ('food', 6.99378951491076e-05), ('toad', 1.9367417118214412e-05), ('load', 2.1519352353571567e-05), ('foam', 4.303870470714313e-06), ('road', 1.9367417118214412e-05), ('goad', 1.0759676176785783e-06), ('fold', 2.3671287588928723e-05)]\n"
     ]
    }
   ],
   "source": [
    "word = \"foad\"\n",
    "guesses = corr_spell(word, vocabs, word_prob)\n",
    "print(guesses)"
   ]
  },
  {
   "cell_type": "code",
   "execution_count": null,
   "id": "6df8088d",
   "metadata": {},
   "outputs": [],
   "source": [
    "class spellCheck(object):\n",
    "    def __init__(self, corpus_file_path):\n",
    "        with open(corpus_file_path, \"r\") as file:\n",
    "            lines = file.readlines()\n",
    "            words=[]\n",
    "            for line in lines:\n",
    "                words+=re.findall(r'\\w+', line.lower())\n",
    "\n",
    "            self.vocab = set(words)\n",
    "            self.word_count = Counter(words)\n",
    "            total_words = float(sum(self))"
   ]
  }
 ],
 "metadata": {
  "kernelspec": {
   "display_name": "Python 3 (ipykernel)",
   "language": "python",
   "name": "python3"
  },
  "language_info": {
   "codemirror_mode": {
    "name": "ipython",
    "version": 3
   },
   "file_extension": ".py",
   "mimetype": "text/x-python",
   "name": "python",
   "nbconvert_exporter": "python",
   "pygments_lexer": "ipython3",
   "version": "3.10.6"
  }
 },
 "nbformat": 4,
 "nbformat_minor": 5
}
