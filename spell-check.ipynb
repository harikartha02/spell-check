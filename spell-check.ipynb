{
 "cells": [
  {
   "cell_type": "code",
   "execution_count": 4,
   "id": "d4dbd080",
   "metadata": {},
   "outputs": [],
   "source": [
    "import re\n",
    "import string\n",
    "from collections import Counter\n",
    "import numpy as np"
   ]
  },
  {
   "cell_type": "code",
   "execution_count": 5,
   "id": "64d3d65e",
   "metadata": {},
   "outputs": [],
   "source": [
    "def read_corpus(filename):\n",
    "    with open(filename, 'r') as file:\n",
    "        lines = file.readlines()\n",
    "        words = []\n",
    "        \n",
    "        for line in lines:\n",
    "            words += re.findall(r'\\w+', line.lower())\n",
    "            \n",
    "        return words"
   ]
  },
  {
   "cell_type": "code",
   "execution_count": 7,
   "id": "0f4c3d32",
   "metadata": {},
   "outputs": [],
   "source": [
    "words = read_corpus(\"c:/Users/karth/Onedrive/Desktop/Projects/ML projects/spell-check/spell-check/shakespeare.txt\")\n",
    "#print(len(words)"
   ]
  },
  {
   "cell_type": "code",
   "execution_count": 8,
   "id": "fac04d42",
   "metadata": {},
   "outputs": [
    {
     "name": "stdout",
     "output_type": "stream",
     "text": [
      "11456\n"
     ]
    }
   ],
   "source": [
    "vocabs = set(words)\n",
    "print(len(vocabs))"
   ]
  },
  {
   "cell_type": "code",
   "execution_count": 9,
   "id": "b4e734e9",
   "metadata": {},
   "outputs": [
    {
     "name": "stdout",
     "output_type": "stream",
     "text": [
      "0\n"
     ]
    }
   ],
   "source": [
    "word_count = Counter(words)\n",
    "print(word_count[\"animal\"])"
   ]
  },
  {
   "cell_type": "code",
   "execution_count": 10,
   "id": "928202d8",
   "metadata": {},
   "outputs": [],
   "source": [
    "total_word_count = float(sum(word_count.values()))\n",
    "word_prob = {word: word_count[word] / total_word_count for word in word_count.keys()}\n"
   ]
  },
  {
   "cell_type": "code",
   "execution_count": 12,
   "id": "1c2c3c4e",
   "metadata": {},
   "outputs": [
    {
     "name": "stdout",
     "output_type": "stream",
     "text": [
      "2.8772838440512156e-05\n"
     ]
    }
   ],
   "source": [
    "print(word_prob[\"smell\"])"
   ]
  },
  {
   "cell_type": "code",
   "execution_count": 13,
   "id": "769c8418",
   "metadata": {},
   "outputs": [],
   "source": [
    "def split(word):\n",
    "    return [(word[:i], word[i:]) for i in range(len(word)+1)]"
   ]
  },
  {
   "cell_type": "code",
   "execution_count": 14,
   "id": "ae21d6ab",
   "metadata": {},
   "outputs": [
    {
     "name": "stdout",
     "output_type": "stream",
     "text": [
      "[('', 'animal'), ('a', 'nimal'), ('an', 'imal'), ('ani', 'mal'), ('anim', 'al'), ('anima', 'l'), ('animal', '')]\n"
     ]
    }
   ],
   "source": [
    "print(split(\"animal\"))"
   ]
  },
  {
   "cell_type": "code",
   "execution_count": 16,
   "id": "b0821eaa",
   "metadata": {},
   "outputs": [],
   "source": [
    "def delete(word):\n",
    "    return [l+r[1:] for l,r in split(word) if r]"
   ]
  },
  {
   "cell_type": "code",
   "execution_count": 17,
   "id": "9de66c73",
   "metadata": {},
   "outputs": [
    {
     "name": "stdout",
     "output_type": "stream",
     "text": [
      "['rash', 'tash', 'trsh', 'trah', 'tras']\n"
     ]
    }
   ],
   "source": [
    "print(delete(\"trash\"))"
   ]
  }
 ],
 "metadata": {
  "kernelspec": {
   "display_name": "Python 3 (ipykernel)",
   "language": "python",
   "name": "python3"
  },
  "language_info": {
   "codemirror_mode": {
    "name": "ipython",
    "version": 3
   },
   "file_extension": ".py",
   "mimetype": "text/x-python",
   "name": "python",
   "nbconvert_exporter": "python",
   "pygments_lexer": "ipython3",
   "version": "3.10.6"
  }
 },
 "nbformat": 4,
 "nbformat_minor": 5
}
